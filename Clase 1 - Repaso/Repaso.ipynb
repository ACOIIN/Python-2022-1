{
 "cells": [
  {
   "cell_type": "markdown",
   "id": "91b73f4e",
   "metadata": {
    "slideshow": {
     "slide_type": "slide"
    }
   },
   "source": [
    "# Clase 1 - Repaso\n",
    "Vamos a ocupar jupyter notebook\n",
    "<div>\n",
    "<img src=\"src/Jupyter.png\" width=\"200\" align=\"center\"/>\n",
    "</div>\n",
    "Se puede ocupar local o por Internet(Google Colab)"
   ]
  },
  {
   "cell_type": "markdown",
   "id": "58dfcf04",
   "metadata": {
    "slideshow": {
     "slide_type": "slide"
    }
   },
   "source": [
    "## 1 Tipos de datos\n",
    "Vista rapida de los tipos de datos.\n",
    "<div>\n",
    "<img src=\"src/Data_types.jpg\" width=\"400\" align=\"center\"/>\n",
    "</div>"
   ]
  },
  {
   "cell_type": "markdown",
   "id": "1c1835f5",
   "metadata": {
    "slideshow": {
     "slide_type": "subslide"
    }
   },
   "source": [
    "## 1.1 Enteros\n",
    "Numeros que se ocupan para contar de forma discreta."
   ]
  },
  {
   "cell_type": "code",
   "execution_count": null,
   "id": "bad953fc",
   "metadata": {
    "slideshow": {
     "slide_type": "fragment"
    }
   },
   "outputs": [],
   "source": [
    "# Enteros\n",
    "10"
   ]
  },
  {
   "cell_type": "markdown",
   "id": "5767b94a",
   "metadata": {
    "slideshow": {
     "slide_type": "fragment"
    }
   },
   "source": [
    "### Operaciones"
   ]
  },
  {
   "cell_type": "code",
   "execution_count": null,
   "id": "b89ac9f7",
   "metadata": {
    "slideshow": {
     "slide_type": "fragment"
    }
   },
   "outputs": [],
   "source": [
    "# Suma y resta\n",
    "10 - 75 + 122"
   ]
  },
  {
   "cell_type": "code",
   "execution_count": null,
   "id": "f63dfe33",
   "metadata": {
    "slideshow": {
     "slide_type": "fragment"
    }
   },
   "outputs": [],
   "source": [
    "# Multiplicacion y division\n",
    "10 * 75 / 122"
   ]
  },
  {
   "cell_type": "code",
   "execution_count": null,
   "id": "ced740c3",
   "metadata": {
    "slideshow": {
     "slide_type": "fragment"
    }
   },
   "outputs": [],
   "source": [
    "# Division parte entera\n",
    "10 // 3"
   ]
  },
  {
   "cell_type": "code",
   "execution_count": null,
   "id": "d2570cfb",
   "metadata": {
    "slideshow": {
     "slide_type": "fragment"
    }
   },
   "outputs": [],
   "source": [
    "# Resto de la division o modulo\n",
    "10 % 3"
   ]
  },
  {
   "cell_type": "markdown",
   "id": "b01e6763",
   "metadata": {
    "slideshow": {
     "slide_type": "subslide"
    }
   },
   "source": [
    "### Como acceder al tercer digito de un numero?"
   ]
  },
  {
   "cell_type": "code",
   "execution_count": null,
   "id": "511b90d0",
   "metadata": {
    "slideshow": {
     "slide_type": "fragment"
    }
   },
   "outputs": [],
   "source": [
    "(1310 % 1000) // 100"
   ]
  },
  {
   "cell_type": "markdown",
   "id": "9cd5ec91",
   "metadata": {
    "slideshow": {
     "slide_type": "subslide"
    }
   },
   "source": [
    "## 1.2 String\n",
    "Tipos de datos que representan cadenas de caracteres"
   ]
  },
  {
   "cell_type": "code",
   "execution_count": null,
   "id": "78a158b7",
   "metadata": {
    "slideshow": {
     "slide_type": "fragment"
    }
   },
   "outputs": [],
   "source": [
    "\"Hola mundo\""
   ]
  },
  {
   "cell_type": "code",
   "execution_count": null,
   "id": "d39bfcbc",
   "metadata": {
    "slideshow": {
     "slide_type": "fragment"
    }
   },
   "outputs": [],
   "source": [
    "# Acceso a un caracter\n",
    "\"Hola mundo\"[2]"
   ]
  },
  {
   "cell_type": "code",
   "execution_count": null,
   "id": "21f4ccfc",
   "metadata": {
    "slideshow": {
     "slide_type": "fragment"
    }
   },
   "outputs": [],
   "source": [
    "# Obtener el largo\n",
    "len(\"Hola mundo\")"
   ]
  },
  {
   "cell_type": "code",
   "execution_count": null,
   "id": "89c36532",
   "metadata": {
    "slideshow": {
     "slide_type": "fragment"
    }
   },
   "outputs": [],
   "source": [
    "# Obtener un substring\n",
    "\"Hola mundo\"[1:4]"
   ]
  },
  {
   "cell_type": "code",
   "execution_count": null,
   "id": "a0d61c84",
   "metadata": {
    "slideshow": {
     "slide_type": "fragment"
    }
   },
   "outputs": [],
   "source": [
    "# Suma de strings\n",
    "\"Hola\" + \" \" + \"mundo\""
   ]
  },
  {
   "cell_type": "markdown",
   "id": "75aae39b",
   "metadata": {
    "slideshow": {
     "slide_type": "subslide"
    }
   },
   "source": [
    "### Como obtener el string al reves?"
   ]
  },
  {
   "cell_type": "code",
   "execution_count": null,
   "id": "5af2cf64",
   "metadata": {
    "slideshow": {
     "slide_type": "fragment"
    }
   },
   "outputs": [],
   "source": [
    "\"Hola mundo\"[::-1]"
   ]
  },
  {
   "cell_type": "markdown",
   "id": "93abf311",
   "metadata": {
    "slideshow": {
     "slide_type": "slide"
    }
   },
   "source": [
    "## 2 Condicionales\n",
    "<div>\n",
    "<img src=\"src/if-else.jpg\" width=\"400\" align=\"center\"/>\n",
    "</div>"
   ]
  },
  {
   "cell_type": "code",
   "execution_count": null,
   "id": "8040585e",
   "metadata": {
    "slideshow": {
     "slide_type": "fragment"
    }
   },
   "outputs": [],
   "source": [
    "if 10 > 2:\n",
    "    # codigo que corre si condicion es correcta\n",
    "else:\n",
    "    # codigo que corre si condicion NO es correcta"
   ]
  },
  {
   "cell_type": "code",
   "execution_count": null,
   "id": "f07fcf49",
   "metadata": {
    "slideshow": {
     "slide_type": "fragment"
    }
   },
   "outputs": [],
   "source": [
    "if 10 > 2:\n",
    "    # codigo que corre si condicion es correcta\n",
    "elif 12 % 6 > 4:\n",
    "    # codigo que corre si condicion es correcta \n",
    "    # y ademas no entro en un if o elif que le anteceden\n",
    "else:\n",
    "    # codigo que corre si condicion NO es correcta"
   ]
  },
  {
   "cell_type": "markdown",
   "id": "1edd4d05",
   "metadata": {
    "slideshow": {
     "slide_type": "slide"
    }
   },
   "source": [
    "## 3 Funciones\n",
    "Emcapsulamiento de codigo que nos permite no estar escribiendo lo mismo de forma innecesaria."
   ]
  },
  {
   "cell_type": "code",
   "execution_count": null,
   "id": "8337c5f6",
   "metadata": {
    "slideshow": {
     "slide_type": "fragment"
    }
   },
   "outputs": [],
   "source": [
    "def function(a, b):\n",
    "    return a + b    # Lo que regresa la funcion"
   ]
  },
  {
   "cell_type": "code",
   "execution_count": null,
   "id": "3bdeec80",
   "metadata": {
    "slideshow": {
     "slide_type": "fragment"
    }
   },
   "outputs": [],
   "source": [
    "def recursion(i):\n",
    "    if i > 0:\n",
    "        print(\"Cuenta regresiva\", i)\n",
    "        recursion(i - 1)\n",
    "    else:\n",
    "        print(\"Booom\")"
   ]
  },
  {
   "cell_type": "markdown",
   "id": "181b94f3",
   "metadata": {
    "slideshow": {
     "slide_type": "slide"
    }
   },
   "source": [
    "## 4 Ciclos\n",
    "<div>\n",
    "<img src=\"src/while-meme.jpg\" width=\"300\" align=\"center\"/>\n",
    "</div>"
   ]
  },
  {
   "cell_type": "code",
   "execution_count": null,
   "id": "713648d9",
   "metadata": {
    "slideshow": {
     "slide_type": "subslide"
    }
   },
   "outputs": [],
   "source": [
    "# Mientras se mantenga esta condicion se sigue \n",
    "# ejecutando el codigo dentro\n",
    "i = 10\n",
    "while i % 17 != 0:\n",
    "    i += 13\n",
    "    print(i)"
   ]
  },
  {
   "cell_type": "code",
   "execution_count": null,
   "id": "c021537d",
   "metadata": {
    "slideshow": {
     "slide_type": "fragment"
    }
   },
   "outputs": [],
   "source": [
    "# Se recorre a un iterable con el for\n",
    "for i in \"Hola mundo\":\n",
    "    print(i)"
   ]
  },
  {
   "cell_type": "code",
   "execution_count": null,
   "id": "a477955c",
   "metadata": {
    "slideshow": {
     "slide_type": "fragment"
    }
   },
   "outputs": [],
   "source": [
    "# El range nos da los numeros desde el 0 hasta el n - 1\n",
    "for i in range(10):\n",
    "    print(i)"
   ]
  },
  {
   "cell_type": "markdown",
   "id": "85b70fd8",
   "metadata": {
    "slideshow": {
     "slide_type": "subslide"
    }
   },
   "source": [
    "### 4.1 Generadores\n",
    "En python uno puede crear sus propias funciones que son iterables."
   ]
  },
  {
   "cell_type": "code",
   "execution_count": null,
   "id": "c47af2e6",
   "metadata": {
    "slideshow": {
     "slide_type": "fragment"
    }
   },
   "outputs": [],
   "source": [
    "def fun():\n",
    "    i = 1\n",
    "    while True:\n",
    "        i *= 2   # yield es una suerte de return pero que hace que la funcion\n",
    "        yield i   # quede en stand by hasta que se le vuelva a pedir que continue\n"
   ]
  },
  {
   "cell_type": "code",
   "execution_count": null,
   "id": "206de52a",
   "metadata": {
    "slideshow": {
     "slide_type": "fragment"
    }
   },
   "outputs": [],
   "source": [
    "potencias_2 = fun()\n",
    "print(next(potencias_2))\n",
    "print(next(potencias_2))\n",
    "print(next(potencias_2))"
   ]
  },
  {
   "cell_type": "markdown",
   "id": "c5c70fb0",
   "metadata": {
    "slideshow": {
     "slide_type": "slide"
    }
   },
   "source": [
    "## 5 Listas\n",
    "Las listas son estructuras de almacenamiento de datos de forma secuencial y dinamica. Se manejan similar a un string. "
   ]
  },
  {
   "cell_type": "code",
   "execution_count": null,
   "id": "c116adc5",
   "metadata": {
    "slideshow": {
     "slide_type": "fragment"
    }
   },
   "outputs": [],
   "source": [
    "lista = [1, \"pes\", True, 1.3333]\n",
    "lista[0]                          # Empieza a contar desde el 0 sus posiciones"
   ]
  },
  {
   "cell_type": "code",
   "execution_count": null,
   "id": "6533127f",
   "metadata": {
    "slideshow": {
     "slide_type": "fragment"
    }
   },
   "outputs": [],
   "source": [
    "lista[1:3]"
   ]
  },
  {
   "cell_type": "code",
   "execution_count": null,
   "id": "78f14338",
   "metadata": {
    "slideshow": {
     "slide_type": "fragment"
    }
   },
   "outputs": [],
   "source": [
    "# Se le pueden a;adir datos con append\n",
    "lista.append(10)\n",
    "lista.append(-3.12**2)\n",
    "lista"
   ]
  },
  {
   "cell_type": "markdown",
   "id": "d55fb774",
   "metadata": {
    "slideshow": {
     "slide_type": "slide"
    }
   },
   "source": [
    "## 6 Clases\n",
    "Las clases es una estructura que posee metodos y atributos."
   ]
  },
  {
   "cell_type": "code",
   "execution_count": null,
   "id": "d5da90c1",
   "metadata": {
    "slideshow": {
     "slide_type": "fragment"
    }
   },
   "outputs": [],
   "source": [
    "class pokemon:\n",
    "    def __init__(self, mote, tipo, nivel):\n",
    "        self.mote = mote\n",
    "        self.tipo = tipo\n",
    "        self.nivel = nivel\n",
    "    def hablar(self):\n",
    "        print(f\"Soy {self.mote} de tipo {self.tipo} y soy de nivel {self.nivel}\")"
   ]
  },
  {
   "cell_type": "code",
   "execution_count": null,
   "id": "f6e5cf33",
   "metadata": {
    "slideshow": {
     "slide_type": "fragment"
    }
   },
   "outputs": [],
   "source": [
    "pikachu = pokemon(\"pika\", \"electrico\", 14)\n",
    "pikachu.hablar()"
   ]
  },
  {
   "cell_type": "markdown",
   "id": "aeb541a7",
   "metadata": {
    "slideshow": {
     "slide_type": "subslide"
    }
   },
   "source": [
    "### Metodos que se le puede modificar una clase"
   ]
  },
  {
   "cell_type": "code",
   "execution_count": null,
   "id": "d681c5d8",
   "metadata": {
    "slideshow": {
     "slide_type": "fragment"
    }
   },
   "outputs": [],
   "source": [
    "def Fraccion:\n",
    "    def __init__(self, numerador, denominador):\n",
    "        pass\n",
    "    \n",
    "    def simplificar(self): # simplifica la fracción por el maximo comun divisor del numerador y denominador\n",
    "        pass\n",
    "    \n",
    "    def __str__(self):    # retorna un string de la fraccion\n",
    "        pass\n",
    "    \n",
    "    def __add__(self, x):  # retorna un objeto de clase Fraccion que es la suma entre la fraccion\n",
    "        pass               # self con la Fraccion x"
   ]
  },
  {
   "cell_type": "markdown",
   "id": "0505e346",
   "metadata": {
    "slideshow": {
     "slide_type": "slide"
    }
   },
   "source": [
    "## 7 Modulos\n",
    "Con los modulos podemos usar las funciones que demas personas hayan creado. De esta manera no es necesario reinventar la rueda."
   ]
  },
  {
   "cell_type": "code",
   "execution_count": null,
   "id": "d5ed18d5",
   "metadata": {
    "slideshow": {
     "slide_type": "fragment"
    }
   },
   "outputs": [],
   "source": [
    "%pip install Wikipedia"
   ]
  },
  {
   "cell_type": "code",
   "execution_count": null,
   "id": "162e1b94",
   "metadata": {
    "slideshow": {
     "slide_type": "subslide"
    }
   },
   "outputs": [],
   "source": [
    "import wikipedia"
   ]
  },
  {
   "cell_type": "code",
   "execution_count": null,
   "id": "b657bd57",
   "metadata": {
    "slideshow": {
     "slide_type": "fragment"
    }
   },
   "outputs": [],
   "source": [
    "result = wikipedia.page(\"Chile\")\n",
    "print(result.summary)"
   ]
  }
 ],
 "metadata": {
  "celltoolbar": "Slideshow",
  "kernelspec": {
   "display_name": "Python 3 (ipykernel)",
   "language": "python",
   "name": "python3"
  },
  "language_info": {
   "codemirror_mode": {
    "name": "ipython",
    "version": 3
   },
   "file_extension": ".py",
   "mimetype": "text/x-python",
   "name": "python",
   "nbconvert_exporter": "python",
   "pygments_lexer": "ipython3",
   "version": "3.10.4"
  }
 },
 "nbformat": 4,
 "nbformat_minor": 5
}
