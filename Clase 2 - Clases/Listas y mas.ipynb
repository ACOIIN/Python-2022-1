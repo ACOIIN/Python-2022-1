{
 "cells": [
  {
   "cell_type": "markdown",
   "id": "9849d889",
   "metadata": {
    "slideshow": {
     "slide_type": "slide"
    }
   },
   "source": [
    "# Listas y mas\n",
    "En esta clase vamos a repasar varias estructuras que nos sirven para guardar datos en Python. "
   ]
  },
  {
   "cell_type": "markdown",
   "id": "b8f9c055",
   "metadata": {
    "slideshow": {
     "slide_type": "slide"
    }
   },
   "source": [
    "## Listas\n",
    "Las listas en python son una estructura de datos (forma en la cual se guardan los datos) la cual simula una secuencia de elementos. Las listas son dinámicas, es decir que su tamaño puede crecer indefinidamente. \n",
    "\n",
    "<div>\n",
    "<img src=\"src/listas.jpg\" width=\"550\" align=\"center\"/>\n",
    "</div>"
   ]
  },
  {
   "cell_type": "markdown",
   "id": "c9d2f009",
   "metadata": {
    "slideshow": {
     "slide_type": "slide"
    }
   },
   "source": [
    "## 1.1 Crear una lista\n",
    "Veamos como se crea una lista:"
   ]
  },
  {
   "cell_type": "code",
   "execution_count": null,
   "id": "eaff00b9",
   "metadata": {
    "slideshow": {
     "slide_type": "fragment"
    }
   },
   "outputs": [],
   "source": [
    "lista = []        # se crea la lista\n",
    "lista.append(1)   # se añade elemento con .append(x)\n",
    "lista.append(2)   # se añade elemento con .append(x)\n",
    "lista"
   ]
  },
  {
   "cell_type": "markdown",
   "id": "9aeaf2bd",
   "metadata": {
    "slideshow": {
     "slide_type": "fragment"
    }
   },
   "source": [
    "También se puede declarar una lista con elementos dentro"
   ]
  },
  {
   "cell_type": "code",
   "execution_count": null,
   "id": "2dce4868",
   "metadata": {
    "slideshow": {
     "slide_type": "fragment"
    }
   },
   "outputs": [],
   "source": [
    "lista = [1, 2, 3]\n",
    "lista"
   ]
  },
  {
   "cell_type": "markdown",
   "id": "82439dad",
   "metadata": {
    "slideshow": {
     "slide_type": "fragment"
    }
   },
   "source": [
    "Para acceder al elemento en cierta posición se utilizan los corchetes \\[  \\] al igual que en un string."
   ]
  },
  {
   "cell_type": "code",
   "execution_count": null,
   "id": "66e5cad1",
   "metadata": {
    "slideshow": {
     "slide_type": "fragment"
    }
   },
   "outputs": [],
   "source": [
    "lista = [1, 2, 3]\n",
    "        # 0, 1, 2\n",
    "lista[0]"
   ]
  },
  {
   "cell_type": "markdown",
   "id": "e95e98c4",
   "metadata": {
    "slideshow": {
     "slide_type": "fragment"
    }
   },
   "source": [
    "Notese que los elementos dentro de la lista no necesariamente deben de ser el mismo tipo de dato entre sí."
   ]
  },
  {
   "cell_type": "code",
   "execution_count": null,
   "id": "8168d995",
   "metadata": {
    "slideshow": {
     "slide_type": "fragment"
    }
   },
   "outputs": [],
   "source": [
    "lista = [\"jojo\", True, 3, 3.5555]\n",
    "lista"
   ]
  },
  {
   "cell_type": "markdown",
   "id": "d0fd5a46",
   "metadata": {
    "slideshow": {
     "slide_type": "subslide"
    }
   },
   "source": [
    "### 1.1.1 Lista por comprensión\n",
    "Con fin de hacer la creación de la lista de forma más automatizada existe el concepto de listas por comprension. \n",
    "\n",
    "Las listas por compresión es una forma de definir una lista dada cierta propiedad de sus elementos.\n"
   ]
  },
  {
   "cell_type": "code",
   "execution_count": null,
   "id": "efedf845",
   "metadata": {
    "slideshow": {
     "slide_type": "fragment"
    }
   },
   "outputs": [],
   "source": [
    "# Lo que uno normalmente hace\n",
    "lista = []\n",
    "for i in range(10):\n",
    "    lista.append(i)\n",
    "lista"
   ]
  },
  {
   "cell_type": "code",
   "execution_count": null,
   "id": "4498dc97",
   "metadata": {
    "slideshow": {
     "slide_type": "fragment"
    }
   },
   "outputs": [],
   "source": [
    "# Su versión en lista por comprensión\n",
    "lista = [i for i in range(10)]  # if i % 4 == 0\n",
    "lista"
   ]
  },
  {
   "cell_type": "markdown",
   "id": "c80817d8",
   "metadata": {
    "slideshow": {
     "slide_type": "subslide"
    }
   },
   "source": [
    "## 1.2 Métodos y funciones de las listas\n",
    "Los métodos son funciones propias de los objetos."
   ]
  },
  {
   "cell_type": "code",
   "execution_count": null,
   "id": "a35b54cb",
   "metadata": {
    "slideshow": {
     "slide_type": "fragment"
    }
   },
   "outputs": [],
   "source": [
    "# Largo de una lista\n",
    "len(lista)"
   ]
  },
  {
   "cell_type": "code",
   "execution_count": null,
   "id": "4bb9b5e4",
   "metadata": {
    "slideshow": {
     "slide_type": "fragment"
    }
   },
   "outputs": [],
   "source": [
    "# Eliminación de todos los elementos de una lista\n",
    "lista.clear()\n",
    "lista"
   ]
  },
  {
   "cell_type": "code",
   "execution_count": null,
   "id": "39e6d317",
   "metadata": {
    "slideshow": {
     "slide_type": "fragment"
    }
   },
   "outputs": [],
   "source": [
    "# Cuenta cuántas veces hay tal elemento\n",
    "lista = [1, 2, \"1\", 3]\n",
    "print(lista)\n",
    "lista.count(\"1\")"
   ]
  },
  {
   "cell_type": "code",
   "execution_count": null,
   "id": "3116d60f",
   "metadata": {
    "slideshow": {
     "slide_type": "fragment"
    }
   },
   "outputs": [],
   "source": [
    "# Elimina el primer elemento con igual al valor específico\n",
    "lista = [1, 2, 3, 1]\n",
    "lista.remove(1)\n",
    "lista"
   ]
  },
  {
   "cell_type": "markdown",
   "id": "bf712e62",
   "metadata": {
    "slideshow": {
     "slide_type": "subslide"
    }
   },
   "source": [
    "### Ordenar una lista"
   ]
  },
  {
   "cell_type": "code",
   "execution_count": null,
   "id": "f9304522",
   "metadata": {
    "slideshow": {
     "slide_type": "fragment"
    }
   },
   "outputs": [],
   "source": [
    "# Ordena una lista de menor a mayor\n",
    "lista = [2, 1, 3]\n",
    "lista.sort(reverse=True)\n",
    "lista"
   ]
  },
  {
   "cell_type": "code",
   "execution_count": null,
   "id": "ef3ea1cd",
   "metadata": {
    "slideshow": {
     "slide_type": "fragment"
    }
   },
   "outputs": [],
   "source": [
    "def myFunc(e):\n",
    "  return len(e)\n",
    "\n",
    "# print(myFunc('holaaa'))\n",
    "\n",
    "cars = ['Ford', 'Mitsubishi', 'BMW', 'VW']\n",
    "\n",
    "cars.sort(reverse=False, key=myFunc)\n",
    "\n",
    "cars"
   ]
  },
  {
   "cell_type": "markdown",
   "id": "953683b6",
   "metadata": {
    "slideshow": {
     "slide_type": "fragment"
    }
   },
   "source": [
    "Hay varios métodos más que pueden encontrar en el siguiente [link](https://www.w3schools.com/python/python_ref_list.asp). "
   ]
  },
  {
   "cell_type": "markdown",
   "id": "d7a3f7a7",
   "metadata": {
    "slideshow": {
     "slide_type": "slide"
    }
   },
   "source": [
    "## 1.3 Recorrer una lista\n",
    "Para recorrer una lista usaremos lo aprendido en la clase pasada. Mostraremos dos maneras de hacerlo, una con while y otra con for."
   ]
  },
  {
   "cell_type": "markdown",
   "id": "012ca718",
   "metadata": {
    "slideshow": {
     "slide_type": "subslide"
    }
   },
   "source": [
    "### 1.3.1 While"
   ]
  },
  {
   "cell_type": "code",
   "execution_count": null,
   "id": "192ccb30",
   "metadata": {
    "slideshow": {
     "slide_type": "fragment"
    }
   },
   "outputs": [],
   "source": [
    "lista = [\"jojo\", True, 3, 3.5555]\n",
    "i = 0\n",
    "while i < len(lista):\n",
    "    print (i, lista[i])\n",
    "    i += 1"
   ]
  },
  {
   "cell_type": "markdown",
   "id": "99f9c9c4",
   "metadata": {
    "slideshow": {
     "slide_type": "subslide"
    }
   },
   "source": [
    "### 1.3.2 For"
   ]
  },
  {
   "cell_type": "code",
   "execution_count": null,
   "id": "19557e80",
   "metadata": {
    "scrolled": true,
    "slideshow": {
     "slide_type": "fragment"
    }
   },
   "outputs": [],
   "source": [
    "lista = [\"jojo\", True, 3, 3.5555]\n",
    "for elemento in lista:\n",
    "    print (elemento)"
   ]
  },
  {
   "cell_type": "markdown",
   "id": "82b4fd62",
   "metadata": {
    "slideshow": {
     "slide_type": "slide"
    }
   },
   "source": [
    "# Diccionarios\n",
    "Los diccionarios nos permiten guardar informacion mediante de manera que para acceder a esta ocupemos una \"llave\". \n",
    "<div>\n",
    "<img src=\"src/diccionarios.png\" width=\"550\" align=\"center\"/>\n",
    "</div>"
   ]
  },
  {
   "cell_type": "markdown",
   "id": "bcdf4d4e",
   "metadata": {
    "slideshow": {
     "slide_type": "subslide"
    }
   },
   "source": [
    "## 2.1 Creacion\n"
   ]
  },
  {
   "cell_type": "code",
   "execution_count": null,
   "id": "8226a94a",
   "metadata": {
    "slideshow": {
     "slide_type": "fragment"
    }
   },
   "outputs": [],
   "source": [
    "diccionario = {}\n",
    "diccionario[\"banana\"] = \"pera\"\n",
    "diccionario[\"manzana\"] = \"durazno\"\n",
    "diccionario"
   ]
  },
  {
   "cell_type": "code",
   "execution_count": null,
   "id": "085006a7",
   "metadata": {
    "slideshow": {
     "slide_type": "fragment"
    }
   },
   "outputs": [],
   "source": [
    "# tambien lo podemos declarar con elementos dentro\n",
    "diccionario = {'banana': 'pera', 'manzana': 'durazno'}\n",
    "diccionario"
   ]
  },
  {
   "cell_type": "markdown",
   "id": "356cc4e1",
   "metadata": {
    "slideshow": {
     "slide_type": "subslide"
    }
   },
   "source": [
    "### 2.1.1 Diccionarios por comprension\n",
    "Al igual que las listas, se puede definir un diccionario mediante una propiedad."
   ]
  },
  {
   "cell_type": "code",
   "execution_count": null,
   "id": "5d6b015c",
   "metadata": {
    "slideshow": {
     "slide_type": "fragment"
    }
   },
   "outputs": [],
   "source": [
    "diccionario = {\"banana\" + str(i) : {i**i} for i in range(10)}\n",
    "diccionario"
   ]
  },
  {
   "cell_type": "markdown",
   "id": "4263a6e2",
   "metadata": {
    "slideshow": {
     "slide_type": "subslide"
    }
   },
   "source": [
    "## 2.2 Recorrer un diccionario\n"
   ]
  },
  {
   "cell_type": "code",
   "execution_count": null,
   "id": "bf9f2cf5",
   "metadata": {
    "slideshow": {
     "slide_type": "skip"
    }
   },
   "outputs": [],
   "source": [
    "for key in diccionario:\n",
    "  print(key, \":\", diccionario[key])"
   ]
  }
 ],
 "metadata": {
  "celltoolbar": "Slideshow",
  "kernelspec": {
   "display_name": "Python 3 (ipykernel)",
   "language": "python",
   "name": "python3"
  },
  "language_info": {
   "codemirror_mode": {
    "name": "ipython",
    "version": 3
   },
   "file_extension": ".py",
   "mimetype": "text/x-python",
   "name": "python",
   "nbconvert_exporter": "python",
   "pygments_lexer": "ipython3",
   "version": "3.10.4"
  }
 },
 "nbformat": 4,
 "nbformat_minor": 5
}
